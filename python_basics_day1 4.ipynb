{
  "nbformat": 4,
  "nbformat_minor": 0,
  "metadata": {
    "colab": {
      "provenance": [],
      "include_colab_link": true
    },
    "kernelspec": {
      "name": "python3",
      "display_name": "Python 3"
    },
    "language_info": {
      "name": "python"
    }
  },
  "cells": [
    {
      "cell_type": "markdown",
      "metadata": {
        "id": "view-in-github",
        "colab_type": "text"
      },
      "source": [
        "<a href=\"https://colab.research.google.com/github/kailashmalani/pythonRepo/blob/main/python_basics_day1%204.ipynb\" target=\"_parent\"><img src=\"https://colab.research.google.com/assets/colab-badge.svg\" alt=\"Open In Colab\"/></a>"
      ]
    },
    {
      "cell_type": "code",
      "execution_count": null,
      "metadata": {
        "colab": {
          "base_uri": "https://localhost:8080/"
        },
        "id": "fooBKl8FmcO4",
        "outputId": "1fa00a45-e3e2-4318-d9d7-49bc711b3247"
      },
      "outputs": [
        {
          "output_type": "stream",
          "name": "stdout",
          "text": [
            "welcome to Python world\n"
          ]
        }
      ],
      "source": [
        "print(\"welcome to Python world\")"
      ]
    },
    {
      "cell_type": "code",
      "source": [],
      "metadata": {
        "id": "T6b5FzByxfKP"
      },
      "execution_count": null,
      "outputs": []
    },
    {
      "cell_type": "code",
      "source": [
        "2+3"
      ],
      "metadata": {
        "id": "456iibnZml4b"
      },
      "execution_count": null,
      "outputs": []
    },
    {
      "cell_type": "code",
      "source": [
        "print(\"Kailash Malani\")"
      ],
      "metadata": {
        "id": "mrwEGxGrzRPp"
      },
      "execution_count": null,
      "outputs": []
    },
    {
      "cell_type": "code",
      "source": [
        "a=10\n",
        "print(a)\n",
        "print(\"a=\",id(a))\n",
        "\n",
        "b=10\n",
        "print(b)\n",
        "print(\"a=\",id(b))\n",
        "\n",
        "c=a\n",
        "print(c)\n",
        "print(\"c=\",id(c))\n",
        "\n",
        "d=20\n",
        "print(d)\n",
        "print(\"d=\",id(d))"
      ],
      "metadata": {
        "id": "QHxFhRxs8Ujf"
      },
      "execution_count": null,
      "outputs": []
    },
    {
      "cell_type": "code",
      "source": [
        "#dynamic\n",
        "\n",
        "a=10\n",
        "print(a)\n",
        "print(\"a=\",id(a))\n",
        "\n",
        "a=3.14\n",
        "print(a)\n",
        "print(\"a=\",id(a))\n",
        "\n",
        "a=\"NTT\"\n",
        "print(a)\n",
        "print(\"a=\",id(a))"
      ],
      "metadata": {
        "id": "T0bFrg0LxkrU"
      },
      "execution_count": null,
      "outputs": []
    },
    {
      "cell_type": "code",
      "source": [
        "#deleting a variable\n",
        "\n",
        "a=10\n",
        "print(a)\n",
        "\n",
        "del a\n",
        "print(a)"
      ],
      "metadata": {
        "id": "JCb4otIl0Fts"
      },
      "execution_count": null,
      "outputs": []
    },
    {
      "cell_type": "code",
      "source": [
        "#creating multiple variables\n",
        "\n",
        "a,b,c=10,3.14,\"NTT\"\n",
        "print(a,b,c)\n",
        "\n",
        "#assign single value to multiple variables\n",
        "\n",
        "a=b=c=100\n",
        "print(a,b,c)"
      ],
      "metadata": {
        "id": "cSu_1lo00rdm"
      },
      "execution_count": null,
      "outputs": []
    },
    {
      "cell_type": "code",
      "source": [
        "#variable annotation\n",
        "\n",
        "a: int = 10\n",
        "print(a)\n",
        "\n",
        "print(__annotations__['a'])\n",
        "\n",
        "b: float = 31.3\n",
        "print(a)\n",
        "\n",
        "print(__annotations__['a'])\n",
        "\n",
        "c: str = \"NTT\"\n",
        "print(c)\n",
        "\n",
        "print(__annotations__['c'])\n",
        "\n",
        "a=\"Blr\"\n",
        "print(a)"
      ],
      "metadata": {
        "id": "lrOO2Xoe2GOc"
      },
      "execution_count": null,
      "outputs": []
    },
    {
      "cell_type": "code",
      "source": [
        "import keyword\n",
        "\n",
        "print(keyword.kwlist)\n",
        "print(len(keyword.kwlist))"
      ],
      "metadata": {
        "id": "oc2u1maa3RBe"
      },
      "execution_count": null,
      "outputs": []
    },
    {
      "cell_type": "code",
      "source": [
        "# this is a single line comment\n",
        "\n",
        "#this is a multiline comment\n",
        "\n",
        "'''Multilevel\n",
        "comment'''\n",
        "\n",
        "print(\"hey\")"
      ],
      "metadata": {
        "id": "jsVRDW2A4Y_I"
      },
      "execution_count": null,
      "outputs": []
    },
    {
      "cell_type": "code",
      "source": [
        "#Strings\n",
        "\n",
        "s= \"code yug\"\n",
        "\n",
        "print(s[0:3:1])\n",
        "print(s[2:4])\n",
        "print(s[0:5:2])\n",
        "print(s[:4])\n",
        "print(s[-2:-6:2])\n",
        "print(s[-1::-1])\n",
        "print(s[-3:-11])\n",
        "print(s[-1:-1:-1])\n",
        "\n",
        "st = \"bangalore\"\n",
        "print(st[0:8:3])\n",
        "print(st[0::1])\n",
        "print(st[::1])\n",
        "print(st[::])\n",
        "print(st[0:0:1])\n",
        "print(st[::-1])\n",
        "print(st[-1:-4:-1])\n",
        "\n",
        "sti = \"Hello, world!\"\n",
        "print(sti[7:12])\n",
        "print(sti[:5])\n",
        "print(sti[-6:-1])\n",
        "print(sti[-2:-6:-1])\n",
        "print(sti[2:6:-1])"
      ],
      "metadata": {
        "id": "6tBzaWTTBU3g",
        "outputId": "404b6260-0421-4d9a-c2a2-da5ff6b759e4",
        "colab": {
          "base_uri": "https://localhost:8080/"
        }
      },
      "execution_count": null,
      "outputs": [
        {
          "output_type": "stream",
          "name": "stdout",
          "text": [
            "cod\n",
            "de\n",
            "cd \n",
            "code\n",
            "\n",
            "guy edoc\n",
            "\n",
            "\n",
            "bgo\n",
            "bangalore\n",
            "bangalore\n",
            "bangalore\n",
            "\n",
            "erolagnab\n",
            "ero\n",
            "world\n",
            "Hello\n",
            "world\n",
            "dlro\n",
            "\n"
          ]
        }
      ]
    },
    {
      "cell_type": "code",
      "source": [
        "#day3\n",
        "\n",
        "#simple if statement\n",
        "\n",
        "if 1>5:\n",
        "  print(\"10 is greater than 5\")\n",
        "  print(\"I am inside if block\")\n",
        "  print(\"still I am inside if block\")\n",
        "print(\"I am outside if block\")"
      ],
      "metadata": {
        "id": "c3qkaB-znQdF",
        "outputId": "09f8c3e6-655a-4059-dfb3-5d03a9ec282d",
        "colab": {
          "base_uri": "https://localhost:8080/"
        }
      },
      "execution_count": 3,
      "outputs": [
        {
          "output_type": "stream",
          "name": "stdout",
          "text": [
            "I am outside if block\n"
          ]
        }
      ]
    },
    {
      "cell_type": "code",
      "source": [
        "#input\n",
        "\n",
        "name = input(\"Enter your Name\")\n",
        "print(\"Your name is : \",name)"
      ],
      "metadata": {
        "id": "aGAPSuyKpT_U",
        "outputId": "5aeae120-26f9-4bae-9c65-a7b473ef3f29",
        "colab": {
          "base_uri": "https://localhost:8080/"
        }
      },
      "execution_count": 5,
      "outputs": [
        {
          "output_type": "stream",
          "name": "stdout",
          "text": [
            "Enter your NameKailash\n",
            "Your name is :  Kailash\n"
          ]
        }
      ]
    },
    {
      "cell_type": "code",
      "source": [
        "no1 = int(input(\"Enter the first number \"))\n",
        "no2 = int(input(\"Enter Second Number \"))\n",
        "\n",
        "if no1>no2:\n",
        "  print(\"no1 is Greater\")"
      ],
      "metadata": {
        "id": "bSC0VQf2pqtx",
        "outputId": "8054abe5-8d74-431e-eeec-0e8c7c382ab2",
        "colab": {
          "base_uri": "https://localhost:8080/"
        }
      },
      "execution_count": 10,
      "outputs": [
        {
          "output_type": "stream",
          "name": "stdout",
          "text": [
            "Enter the first number 23\n",
            "Enter Second Number 12\n",
            "no1 is Greater\n"
          ]
        }
      ]
    },
    {
      "cell_type": "code",
      "source": [
        "no1 = float(input(\"Enter the first number \"))\n",
        "no2 = float(input(\"Enter Second Number \"))\n",
        "print(no1+no2)"
      ],
      "metadata": {
        "id": "_rUAL97-qVID",
        "outputId": "a9a585c7-624c-4f5b-e205-7a75ee107d16",
        "colab": {
          "base_uri": "https://localhost:8080/"
        }
      },
      "execution_count": 9,
      "outputs": [
        {
          "output_type": "stream",
          "name": "stdout",
          "text": [
            "Enter the first number 23\n",
            "Enter Second Number 43\n",
            "66.0\n"
          ]
        }
      ]
    },
    {
      "cell_type": "code",
      "source": [
        "age =int(input(\"Please Enter your age : \"))\n",
        "\n",
        "if age>=18:\n",
        "  print(\"Welcome to Vote\")\n",
        "  print(\"You can Vote\")\n",
        "else:\n",
        "  print(\"Sorry Not eligible to Vote\")\n",
        "print(\"Thank You\")"
      ],
      "metadata": {
        "id": "4v0Rj4LesHp8",
        "outputId": "8e0f0924-994e-4e14-fb2f-6d836625f1e0",
        "colab": {
          "base_uri": "https://localhost:8080/"
        }
      },
      "execution_count": 14,
      "outputs": [
        {
          "output_type": "stream",
          "name": "stdout",
          "text": [
            "Please Enter your age : 17\n",
            "Sorry Not eligible to Vote\n",
            "Thank You\n"
          ]
        }
      ]
    },
    {
      "cell_type": "code",
      "source": [
        "a = int(input(\"Enter a number : \"))\n",
        "\n",
        "if a%2==0:\n",
        "  print(a,\" is an Even Number\")\n",
        "else:\n",
        "  print(a,\" is an Odd Number\")"
      ],
      "metadata": {
        "id": "YD14ADTWt0M4",
        "outputId": "27a243ce-09f4-47c1-e843-a33967f77fe0",
        "colab": {
          "base_uri": "https://localhost:8080/"
        }
      },
      "execution_count": 16,
      "outputs": [
        {
          "output_type": "stream",
          "name": "stdout",
          "text": [
            "Enter a number : 12\n",
            "12  is an Even Number\n"
          ]
        }
      ]
    },
    {
      "cell_type": "code",
      "source": [
        "grade = int(input(\"Enter a grade : \"))\n",
        "\n",
        "if grade >= 90:\n",
        "  print(\"A Grade\")\n",
        "elif grade >= 80:\n",
        "  print(\"B Grade\")\n",
        "elif grade >= 70:\n",
        "  print(\"C Grade\")\n",
        "\n",
        "else:\n",
        "  print(\"D Grade\")"
      ],
      "metadata": {
        "id": "iNkBAQQiuyv7",
        "outputId": "b76c26d6-8357-4a16-ee3c-7e8185511e66",
        "colab": {
          "base_uri": "https://localhost:8080/"
        }
      },
      "execution_count": 17,
      "outputs": [
        {
          "output_type": "stream",
          "name": "stdout",
          "text": [
            "Enter a grade : 75\n",
            "C Grade\n"
          ]
        }
      ]
    },
    {
      "cell_type": "code",
      "source": [
        "num = int(input(\"Enter a number : \"))\n",
        "\n",
        "\n",
        "if num > 0:\n",
        "  print(num,\" is a positive number\")\n",
        "  if(num % 2 ==0):\n",
        "    print(num,\" is an even number\")\n",
        "  else:\n",
        "    print(num,\" is an odd number\")\n",
        "else:\n",
        "  print(num,\" is a negative number\")"
      ],
      "metadata": {
        "id": "v8q13JLZ0XvV",
        "outputId": "cf89588a-464a-4aa3-dd0e-a8896d4d0265",
        "colab": {
          "base_uri": "https://localhost:8080/"
        }
      },
      "execution_count": 18,
      "outputs": [
        {
          "output_type": "stream",
          "name": "stdout",
          "text": [
            "Enter a number : 35\n",
            "35  is a positive number\n",
            "35  is an odd number\n"
          ]
        }
      ]
    },
    {
      "cell_type": "code",
      "source": [
        "#while loop\n",
        "\n",
        "i=2\n",
        "\n",
        "while i<=5:\n",
        "  print(i)\n",
        "  i=i+1\n",
        "\n"
      ],
      "metadata": {
        "id": "zftb9Gpa2msi",
        "outputId": "2f4969c6-614c-42f8-8638-f70ba01cd40a",
        "colab": {
          "base_uri": "https://localhost:8080/"
        }
      },
      "execution_count": 20,
      "outputs": [
        {
          "output_type": "stream",
          "name": "stdout",
          "text": [
            "2\n",
            "3\n",
            "4\n",
            "5\n"
          ]
        }
      ]
    },
    {
      "cell_type": "code",
      "source": [
        "#multiplication table\n",
        "\n",
        "num=int(input(\"Enter a number : \"))\n",
        "\n",
        "i=1\n",
        "\n",
        "while(i<=10):\n",
        "  print(num*i)\n",
        "  i=i+1"
      ],
      "metadata": {
        "id": "4Iut4pNP3LuQ",
        "outputId": "66b91ae1-f995-4562-868d-a7d0049906f8",
        "colab": {
          "base_uri": "https://localhost:8080/"
        }
      },
      "execution_count": 22,
      "outputs": [
        {
          "output_type": "stream",
          "name": "stdout",
          "text": [
            "Enter a number : 7\n",
            "7\n",
            "14\n",
            "21\n",
            "28\n",
            "35\n",
            "42\n",
            "49\n",
            "56\n",
            "63\n",
            "70\n"
          ]
        }
      ]
    },
    {
      "cell_type": "code",
      "source": [
        "#for loop\n",
        "\n",
        "for i in (\"NTT DATA\"):\n",
        "  print(i)\n",
        "\n",
        "for i in [\"10\",\"20\",\"30\"]:\n",
        "  print(i)"
      ],
      "metadata": {
        "id": "7KuHFX9N518m",
        "outputId": "ff7b0a27-b8bd-4ff3-b268-5cd7f0d07b42",
        "colab": {
          "base_uri": "https://localhost:8080/"
        }
      },
      "execution_count": 25,
      "outputs": [
        {
          "output_type": "stream",
          "name": "stdout",
          "text": [
            "N\n",
            "T\n",
            "T\n",
            " \n",
            "D\n",
            "A\n",
            "T\n",
            "A\n",
            "10\n",
            "20\n",
            "30\n"
          ]
        }
      ]
    },
    {
      "cell_type": "code",
      "source": [
        "v = ['a','e','i','o','u']\n",
        "\n",
        "str = input(\"Enter a String \")\n",
        "\n",
        "counter = 0\n",
        "\n",
        "for i in str:\n",
        "  if i in v:\n",
        "    counter = counter + 1\n",
        "\n",
        "print(\"Number of vowels in \",str,\" are \",counter)"
      ],
      "metadata": {
        "id": "RKdGox0y7ZHg",
        "outputId": "c6d5fd0c-a087-4795-d39f-7903a1fd9b62",
        "colab": {
          "base_uri": "https://localhost:8080/"
        }
      },
      "execution_count": 27,
      "outputs": [
        {
          "output_type": "stream",
          "name": "stdout",
          "text": [
            "Enter a String pune\n",
            "Number of vowels in  pune  are  2\n"
          ]
        }
      ]
    },
    {
      "cell_type": "code",
      "source": [
        "# reversing a string using slicing\n",
        "\n",
        "str = input(\"Please enter a string to reverse : \")\n",
        "print(str[::-1])\n",
        "print(str[-1::-1])"
      ],
      "metadata": {
        "id": "lVdCFhw576tw",
        "outputId": "efb187a2-6399-4ea2-f1e0-f9fb058652d9",
        "colab": {
          "base_uri": "https://localhost:8080/"
        }
      },
      "execution_count": 36,
      "outputs": [
        {
          "output_type": "stream",
          "name": "stdout",
          "text": [
            "Please enter a string to reverse : reverse\n",
            "esrever\n",
            "esrever\n"
          ]
        }
      ]
    },
    {
      "cell_type": "code",
      "source": [
        "#palindrome using slicing\n",
        "\n",
        "str = input(\"Please enter a string to check if its a palindrome: \")\n",
        "\n",
        "if str[::1] == str[::-1]:\n",
        "  print(str, \"is a palindrome\")\n",
        "else:\n",
        "  print(str,\" is not a palindrome\")"
      ],
      "metadata": {
        "id": "EmSOFbrA80Or",
        "outputId": "deb7b84f-c5b1-44ec-a0f5-e4dff6bfd4e9",
        "colab": {
          "base_uri": "https://localhost:8080/"
        }
      },
      "execution_count": 43,
      "outputs": [
        {
          "output_type": "stream",
          "name": "stdout",
          "text": [
            "Please enter a string to check if its a palindrome: armymra\n",
            "armymra is a palindrome\n"
          ]
        }
      ]
    }
  ]
}