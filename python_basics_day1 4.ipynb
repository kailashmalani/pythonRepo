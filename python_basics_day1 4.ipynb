{
  "nbformat": 4,
  "nbformat_minor": 0,
  "metadata": {
    "colab": {
      "provenance": [],
      "include_colab_link": true
    },
    "kernelspec": {
      "name": "python3",
      "display_name": "Python 3"
    },
    "language_info": {
      "name": "python"
    }
  },
  "cells": [
    {
      "cell_type": "markdown",
      "metadata": {
        "id": "view-in-github",
        "colab_type": "text"
      },
      "source": [
        "<a href=\"https://colab.research.google.com/github/kailashmalani/pythonRepo/blob/main/python_basics_day1%204.ipynb\" target=\"_parent\"><img src=\"https://colab.research.google.com/assets/colab-badge.svg\" alt=\"Open In Colab\"/></a>"
      ]
    },
    {
      "cell_type": "code",
      "execution_count": 1,
      "metadata": {
        "colab": {
          "base_uri": "https://localhost:8080/"
        },
        "id": "fooBKl8FmcO4",
        "outputId": "1fa00a45-e3e2-4318-d9d7-49bc711b3247"
      },
      "outputs": [
        {
          "output_type": "stream",
          "name": "stdout",
          "text": [
            "welcome to Python world\n"
          ]
        }
      ],
      "source": [
        "print(\"welcome to Python world\")"
      ]
    },
    {
      "cell_type": "code",
      "source": [],
      "metadata": {
        "id": "T6b5FzByxfKP"
      },
      "execution_count": null,
      "outputs": []
    },
    {
      "cell_type": "code",
      "source": [
        "2+3"
      ],
      "metadata": {
        "id": "456iibnZml4b"
      },
      "execution_count": null,
      "outputs": []
    },
    {
      "cell_type": "code",
      "source": [
        "print(\"Kailash Malani\")"
      ],
      "metadata": {
        "id": "mrwEGxGrzRPp"
      },
      "execution_count": null,
      "outputs": []
    },
    {
      "cell_type": "code",
      "source": [
        "a=10\n",
        "print(a)\n",
        "print(\"a=\",id(a))\n",
        "\n",
        "b=10\n",
        "print(b)\n",
        "print(\"a=\",id(b))\n",
        "\n",
        "c=a\n",
        "print(c)\n",
        "print(\"c=\",id(c))\n",
        "\n",
        "d=20\n",
        "print(d)\n",
        "print(\"d=\",id(d))"
      ],
      "metadata": {
        "id": "QHxFhRxs8Ujf"
      },
      "execution_count": null,
      "outputs": []
    },
    {
      "cell_type": "code",
      "source": [
        "#dynamic\n",
        "\n",
        "a=10\n",
        "print(a)\n",
        "print(\"a=\",id(a))\n",
        "\n",
        "a=3.14\n",
        "print(a)\n",
        "print(\"a=\",id(a))\n",
        "\n",
        "a=\"NTT\"\n",
        "print(a)\n",
        "print(\"a=\",id(a))"
      ],
      "metadata": {
        "id": "T0bFrg0LxkrU"
      },
      "execution_count": null,
      "outputs": []
    },
    {
      "cell_type": "code",
      "source": [
        "#deleting a variable\n",
        "\n",
        "a=10\n",
        "print(a)\n",
        "\n",
        "del a\n",
        "print(a)"
      ],
      "metadata": {
        "id": "JCb4otIl0Fts"
      },
      "execution_count": null,
      "outputs": []
    },
    {
      "cell_type": "code",
      "source": [
        "#creating multiple variables\n",
        "\n",
        "a,b,c=10,3.14,\"NTT\"\n",
        "print(a,b,c)\n",
        "\n",
        "#assign single value to multiple variables\n",
        "\n",
        "a=b=c=100\n",
        "print(a,b,c)"
      ],
      "metadata": {
        "id": "cSu_1lo00rdm"
      },
      "execution_count": null,
      "outputs": []
    },
    {
      "cell_type": "code",
      "source": [
        "#variable annotation\n",
        "\n",
        "a: int = 10\n",
        "print(a)\n",
        "\n",
        "print(__annotations__['a'])\n",
        "\n",
        "b: float = 31.3\n",
        "print(a)\n",
        "\n",
        "print(__annotations__['a'])\n",
        "\n",
        "c: str = \"NTT\"\n",
        "print(c)\n",
        "\n",
        "print(__annotations__['c'])\n",
        "\n",
        "a=\"Blr\"\n",
        "print(a)"
      ],
      "metadata": {
        "id": "lrOO2Xoe2GOc"
      },
      "execution_count": null,
      "outputs": []
    },
    {
      "cell_type": "code",
      "source": [
        "import keyword\n",
        "\n",
        "print(keyword.kwlist)\n",
        "print(len(keyword.kwlist))"
      ],
      "metadata": {
        "id": "oc2u1maa3RBe"
      },
      "execution_count": null,
      "outputs": []
    },
    {
      "cell_type": "code",
      "source": [
        "# this is a single line comment\n",
        "\n",
        "#this is a multiline comment\n",
        "\n",
        "'''Multilevel\n",
        "comment'''\n",
        "\n",
        "print(\"hey\")"
      ],
      "metadata": {
        "id": "jsVRDW2A4Y_I"
      },
      "execution_count": null,
      "outputs": []
    },
    {
      "cell_type": "code",
      "source": [
        "#Strings\n",
        "\n",
        "s= \"code yug\"\n",
        "\n",
        "print(s[0:3:1])\n",
        "print(s[2:4])\n",
        "print(s[0:5:2])\n",
        "print(s[:4])\n",
        "print(s[-2:-6:2])\n",
        "print(s[-1::-1])\n",
        "print(s[-3:-11])\n",
        "print(s[-1:-1:-1])\n",
        "\n",
        "st = \"bangalore\"\n",
        "print(st[0:8:3])\n",
        "print(st[0::1])\n",
        "print(st[::1])\n",
        "print(st[::])\n",
        "print(st[0:0:1])\n",
        "print(st[::-1])\n",
        "print(st[-1:-4:-1])\n",
        "\n",
        "sti = \"Hello, world!\"\n",
        "print(sti[7:12])\n",
        "print(sti[:5])\n",
        "print(sti[-6:-1])\n",
        "print(sti[-2:-6:-1])\n",
        "print(sti[2:6:-1])"
      ],
      "metadata": {
        "id": "6tBzaWTTBU3g",
        "outputId": "404b6260-0421-4d9a-c2a2-da5ff6b759e4",
        "colab": {
          "base_uri": "https://localhost:8080/"
        }
      },
      "execution_count": 32,
      "outputs": [
        {
          "output_type": "stream",
          "name": "stdout",
          "text": [
            "cod\n",
            "de\n",
            "cd \n",
            "code\n",
            "\n",
            "guy edoc\n",
            "\n",
            "\n",
            "bgo\n",
            "bangalore\n",
            "bangalore\n",
            "bangalore\n",
            "\n",
            "erolagnab\n",
            "ero\n",
            "world\n",
            "Hello\n",
            "world\n",
            "dlro\n",
            "\n"
          ]
        }
      ]
    }
  ]
}