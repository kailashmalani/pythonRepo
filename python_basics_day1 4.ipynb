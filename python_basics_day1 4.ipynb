{
  "nbformat": 4,
  "nbformat_minor": 0,
  "metadata": {
    "colab": {
      "provenance": [],
      "include_colab_link": true
    },
    "kernelspec": {
      "name": "python3",
      "display_name": "Python 3"
    },
    "language_info": {
      "name": "python"
    }
  },
  "cells": [
    {
      "cell_type": "markdown",
      "metadata": {
        "id": "view-in-github",
        "colab_type": "text"
      },
      "source": [
        "<a href=\"https://colab.research.google.com/github/kailashmalani/pythonRepo/blob/main/python_basics_day1%204.ipynb\" target=\"_parent\"><img src=\"https://colab.research.google.com/assets/colab-badge.svg\" alt=\"Open In Colab\"/></a>"
      ]
    },
    {
      "cell_type": "code",
      "execution_count": 4,
      "metadata": {
        "colab": {
          "base_uri": "https://localhost:8080/"
        },
        "id": "fooBKl8FmcO4",
        "outputId": "dcc2e2aa-0101-4766-f502-e4a87ae2c463"
      },
      "outputs": [
        {
          "output_type": "stream",
          "name": "stdout",
          "text": [
            "welcome to Python world\n"
          ]
        }
      ],
      "source": [
        "print(\"welcome to Python world\")"
      ]
    },
    {
      "cell_type": "code",
      "source": [
        "2+3"
      ],
      "metadata": {
        "colab": {
          "base_uri": "https://localhost:8080/"
        },
        "id": "456iibnZml4b",
        "outputId": "98005d39-dad6-427f-90f5-a6fad527d64b"
      },
      "execution_count": null,
      "outputs": [
        {
          "output_type": "execute_result",
          "data": {
            "text/plain": [
              "5"
            ]
          },
          "metadata": {},
          "execution_count": 2
        }
      ]
    },
    {
      "cell_type": "code",
      "source": [
        "print(\"Kailash Malani\")"
      ],
      "metadata": {
        "id": "mrwEGxGrzRPp",
        "outputId": "485b2547-77cf-41f3-c65d-712865fc8720",
        "colab": {
          "base_uri": "https://localhost:8080/"
        }
      },
      "execution_count": 1,
      "outputs": [
        {
          "output_type": "stream",
          "name": "stdout",
          "text": [
            "Kailash Malani\n"
          ]
        }
      ]
    },
    {
      "cell_type": "code",
      "source": [
        "a=10\n",
        "print(a)\n",
        "print(\"a=\",id(a))\n",
        "\n",
        "b=10\n",
        "print(b)\n",
        "print(\"a=\",id(b))\n",
        "\n",
        "c=a\n",
        "print(c)\n",
        "print(\"c=\",id(c))\n",
        "\n",
        "d=20\n",
        "print(d)\n",
        "print(\"d=\",id(d))"
      ],
      "metadata": {
        "id": "QHxFhRxs8Ujf",
        "outputId": "a35b10ac-471a-4a0d-dfb6-ee1bbd72c630",
        "colab": {
          "base_uri": "https://localhost:8080/"
        }
      },
      "execution_count": 6,
      "outputs": [
        {
          "output_type": "stream",
          "name": "stdout",
          "text": [
            "10\n",
            "a= 10751144\n",
            "10\n",
            "a= 10751144\n",
            "10\n",
            "c= 10751144\n",
            "20\n",
            "d= 10751464\n"
          ]
        }
      ]
    }
  ]
}